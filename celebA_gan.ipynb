{
  "nbformat": 4,
  "nbformat_minor": 0,
  "metadata": {
    "colab": {
      "name": "celebA_gan.ipynb",
      "provenance": [],
      "collapsed_sections": [],
      "authorship_tag": "ABX9TyPpTi4IlZqI3w02TA/2r/ni",
      "include_colab_link": true
    },
    "kernelspec": {
      "name": "python3",
      "display_name": "Python 3"
    }
  },
  "cells": [
    {
      "cell_type": "markdown",
      "metadata": {
        "id": "view-in-github",
        "colab_type": "text"
      },
      "source": [
        "<a href=\"https://colab.research.google.com/github/gianpDomiziani/TinyML/blob/main/celebA_gan.ipynb\" target=\"_parent\"><img src=\"https://colab.research.google.com/assets/colab-badge.svg\" alt=\"Open In Colab\"/></a>"
      ]
    },
    {
      "cell_type": "code",
      "metadata": {
        "id": "x4QeiyKYmbZV"
      },
      "source": [
        "import tensorflow as tf"
      ],
      "execution_count": 1,
      "outputs": []
    },
    {
      "cell_type": "code",
      "metadata": {
        "colab": {
          "base_uri": "https://localhost:8080/"
        },
        "id": "xFky7US2yK0t",
        "outputId": "06ec2bd0-225b-4710-ba9c-d22d3fe5ed8b"
      },
      "source": [
        "from __future__ import print_function\r\n",
        "import argparse\r\n",
        "import os\r\n",
        "import random\r\n",
        "import torch\r\n",
        "import torch.nn as nn\r\n",
        "import torch.nn.parallel\r\n",
        "import torch.backends.cudnn as cudnn\r\n",
        "import torch.optim as optim\r\n",
        "import torch.utils.data\r\n",
        "import torchvision.datasets as dset\r\n",
        "import torchvision.transforms as transforms\r\n",
        "import torchvision.utils as vutils\r\n",
        "import numpy as np\r\n",
        "import matplotlib.pyplot as plt\r\n",
        "import matplotlib.animation as animation\r\n",
        "from IPython.display import HTML\r\n",
        "\r\n",
        "# Set random seed for reproducibility\r\n",
        "manualSeed = 123\r\n",
        "#manualSeed = random.randint(1, 10000) # use if you want new results\r\n",
        "print(\"Random Seed: \", manualSeed)\r\n",
        "random.seed(manualSeed)\r\n",
        "torch.manual_seed(manualSeed)"
      ],
      "execution_count": 2,
      "outputs": [
        {
          "output_type": "stream",
          "text": [
            "Random Seed:  123\n"
          ],
          "name": "stdout"
        },
        {
          "output_type": "execute_result",
          "data": {
            "text/plain": [
              "<torch._C.Generator at 0x7fb5bcb8e1d0>"
            ]
          },
          "metadata": {
            "tags": []
          },
          "execution_count": 2
        }
      ]
    },
    {
      "cell_type": "code",
      "metadata": {
        "id": "5GxTR-SKqS0z"
      },
      "source": [
        "import glob\r\n",
        "import imageio\r\n",
        "import os\r\n",
        "import PIL\r\n",
        "import time\r\n",
        "import zipfile\r\n",
        "from IPython import display\r\n",
        "from keras.preprocessing import image\r\n",
        "from tensorflow.keras import initializers"
      ],
      "execution_count": 3,
      "outputs": []
    },
    {
      "cell_type": "code",
      "metadata": {
        "id": "n1K6IxMqyb9d"
      },
      "source": [
        "# Root directory for dataset\r\n",
        "dataroot = './dataset'\r\n",
        "\r\n",
        "# Number of workers for dataloader\r\n",
        "workers = 2\r\n",
        "\r\n",
        "# Batch size during training\r\n",
        "batch_size = 128\r\n",
        "\r\n",
        "# Spatial size of training images. All images will be resized to this\r\n",
        "#   size using a transformer.\r\n",
        "image_size = 32\r\n",
        "\r\n",
        "# Number of channels in the training images. For color images this is 3\r\n",
        "nc = 3\r\n",
        "\r\n",
        "# Size of z latent vector (i.e. size of generator input)\r\n",
        "nz = 100\r\n",
        "\r\n",
        "# Size of feature maps in generator\r\n",
        "ngf = 64\r\n",
        "\r\n",
        "# Size of feature maps in discriminator\r\n",
        "ndf = 64\r\n",
        "\r\n",
        "# Number of training epochs\r\n",
        "num_epochs = 50\r\n",
        "\r\n",
        "# Learning rate for optimizers\r\n",
        "lr = 0.0002\r\n",
        "\r\n",
        "# Beta1 hyperparam for Adam optimizers\r\n",
        "beta1 = 0.5\r\n",
        "\r\n",
        "# Number of GPUs available. Use 0 for CPU mode.\r\n",
        "ngpu = 1"
      ],
      "execution_count": 4,
      "outputs": []
    },
    {
      "cell_type": "code",
      "metadata": {
        "id": "BXFEVIJXrSEG"
      },
      "source": [
        "# custom weights initialization called on netG and netD\r\n",
        "def weights_init(m):\r\n",
        "    classname = m.__class__.__name__\r\n",
        "    if classname.find('Conv') != -1:\r\n",
        "        nn.init.normal_(m.weight.data, 0.0, 0.02)\r\n",
        "    elif classname.find('BatchNorm') != -1:\r\n",
        "        nn.init.normal_(m.weight.data, 1.0, 0.02)\r\n",
        "        nn.init.constant_(m.bias.data, 0)"
      ],
      "execution_count": 9,
      "outputs": []
    },
    {
      "cell_type": "code",
      "metadata": {
        "id": "2_UBZFDOmhjL"
      },
      "source": [
        "class Generator(nn.Module):\r\n",
        "\r\n",
        "  def __init__(self, ngpu):\r\n",
        "    super.(Generator, self).__init__()\r\n",
        "    self.ngpu = ngpu\r\n",
        "    self.main = nn.Sequential(\r\n",
        "      nn.ConvTranspose2d(nz, ngf*8, 4, 1, bias=False),\r\n",
        "      nn.BatchNorm2d(ngf*8),\r\n",
        "      nn.LeakyReLU(True),\r\n",
        "      nn.ConvTranspose2d(ngf*8, ngf*4, 4, 2, 1, bias=False),\r\n",
        "      nn.BatchNorm2d(ngf*4),\r\n",
        "      nn.LeakyReLU(True),\r\n",
        "      nn.ConvTranspose2d(ngf*4, ngf*2, 4, 2, 1, bias=False),\r\n",
        "      nn.BatchNorm2d(ngf*2),\r\n",
        "      nn.LeakyReLU(True),\r\n",
        "      nn.ConvTranspose2d(ngf*2, ngf, 4, 2, 1, bias=False),\r\n",
        "      nn.BatchNorm2d(ngf),\r\n",
        "      nn.LeakyReLU(True),\r\n",
        "      nn.ConvTranspose2d(ngf, nc, 4, 2, 1, bias=False)\r\n",
        "      nn.Tanh()\r\n",
        "      )\r\n",
        "    \r\n",
        "    def forward(self, input):\r\n",
        "      return self.main(input)"
      ],
      "execution_count": null,
      "outputs": []
    },
    {
      "cell_type": "code",
      "metadata": {
        "id": "jcN856oIqHx2"
      },
      "source": [
        "class Discriminator(nn.Model):\r\n",
        "  def __init__(self, ngpu):\r\n",
        "    super(Discriminator, self).__init__()\r\n",
        "    self.ngpu = ngpu\r\n",
        "    self.main = nn.Sequential(\r\n",
        "        \r\n",
        "    )"
      ],
      "execution_count": null,
      "outputs": []
    }
  ]
}