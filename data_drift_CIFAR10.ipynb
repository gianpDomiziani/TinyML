{
  "nbformat": 4,
  "nbformat_minor": 0,
  "metadata": {
    "colab": {
      "name": "data_drift_CIFAR10.ipynb",
      "provenance": [],
      "authorship_tag": "ABX9TyMItIZmNkg2Zl2xFQZGKqUx",
      "include_colab_link": true
    },
    "kernelspec": {
      "name": "python3",
      "display_name": "Python 3"
    }
  },
  "cells": [
    {
      "cell_type": "markdown",
      "metadata": {
        "id": "view-in-github",
        "colab_type": "text"
      },
      "source": [
        "<a href=\"https://colab.research.google.com/github/gianpDomiziani/TinyML/blob/main/data_drift_CIFAR10.ipynb\" target=\"_parent\"><img src=\"https://colab.research.google.com/assets/colab-badge.svg\" alt=\"Open In Colab\"/></a>"
      ]
    },
    {
      "cell_type": "markdown",
      "metadata": {
        "id": "LnW-gvjoTppe"
      },
      "source": [
        "## Data Drift Detector on CIFAR-10 dataset\r\n",
        "We'll see how the *Kolmogorov-Smirnov* test can be used to inference about the presence or not of *data-drift* in a incoming dataset against an original (initial) dataset. In particular, the used library allows to perform a features-wise two-samples K-S test. \r\n",
        "\r\n",
        "Since, we'll try to inference on a high-dimensional dataset, dimensional reduction is required. A method will be used: the **Untrained AutoEncoder UAC**.\r\n",
        "\r\n",
        "We'll use the CIFAR-10 dataset, constiting of 32x32x3 images, equal splitted into 10 classes, as the original (initial) dataset. We'll use the CIFAR-10-C dataset as the incoming dataset. The incoming dataset will be perturbed, using a set of corruptions."
      ]
    },
    {
      "cell_type": "code",
      "metadata": {
        "colab": {
          "base_uri": "https://localhost:8080/"
        },
        "id": "nnp6XbuaUbj4",
        "outputId": "e8cba7a9-4374-496a-b29f-df81c9c3bc54"
      },
      "source": [
        "!pip install alibi_detect"
      ],
      "execution_count": 1,
      "outputs": [
        {
          "output_type": "stream",
          "text": [
            "Collecting alibi_detect\n",
            "\u001b[?25l  Downloading https://files.pythonhosted.org/packages/e8/b6/8eafa775c44641cafc2b10269c365785330df0631a9a879303e690b4aebb/alibi_detect-0.4.4-py3-none-any.whl (148kB)\n",
            "\r\u001b[K     |██▏                             | 10kB 18.1MB/s eta 0:00:01\r\u001b[K     |████▍                           | 20kB 19.6MB/s eta 0:00:01\r\u001b[K     |██████▋                         | 30kB 11.2MB/s eta 0:00:01\r\u001b[K     |████████▉                       | 40kB 8.7MB/s eta 0:00:01\r\u001b[K     |███████████                     | 51kB 7.9MB/s eta 0:00:01\r\u001b[K     |█████████████▏                  | 61kB 7.6MB/s eta 0:00:01\r\u001b[K     |███████████████▍                | 71kB 8.6MB/s eta 0:00:01\r\u001b[K     |█████████████████▋              | 81kB 9.2MB/s eta 0:00:01\r\u001b[K     |███████████████████▉            | 92kB 8.5MB/s eta 0:00:01\r\u001b[K     |██████████████████████          | 102kB 7.6MB/s eta 0:00:01\r\u001b[K     |████████████████████████▏       | 112kB 7.6MB/s eta 0:00:01\r\u001b[K     |██████████████████████████▍     | 122kB 7.6MB/s eta 0:00:01\r\u001b[K     |████████████████████████████▋   | 133kB 7.6MB/s eta 0:00:01\r\u001b[K     |██████████████████████████████▉ | 143kB 7.6MB/s eta 0:00:01\r\u001b[K     |████████████████████████████████| 153kB 7.6MB/s \n",
            "\u001b[?25hRequirement already satisfied: tensorflow>=2 in /usr/local/lib/python3.6/dist-packages (from alibi_detect) (2.4.0)\n",
            "Requirement already satisfied: scikit-image in /usr/local/lib/python3.6/dist-packages (from alibi_detect) (0.16.2)\n",
            "Requirement already satisfied: opencv-python in /usr/local/lib/python3.6/dist-packages (from alibi_detect) (4.1.2.30)\n",
            "Requirement already satisfied: matplotlib in /usr/local/lib/python3.6/dist-packages (from alibi_detect) (3.2.2)\n",
            "Requirement already satisfied: Pillow in /usr/local/lib/python3.6/dist-packages (from alibi_detect) (7.0.0)\n",
            "Requirement already satisfied: dask[array] in /usr/local/lib/python3.6/dist-packages (from alibi_detect) (2.12.0)\n",
            "Requirement already satisfied: scikit-learn in /usr/local/lib/python3.6/dist-packages (from alibi_detect) (0.22.2.post1)\n",
            "Requirement already satisfied: tensorflow-probability>=0.8 in /usr/local/lib/python3.6/dist-packages (from alibi_detect) (0.12.1)\n",
            "Requirement already satisfied: pandas in /usr/local/lib/python3.6/dist-packages (from alibi_detect) (1.1.5)\n",
            "Requirement already satisfied: numpy in /usr/local/lib/python3.6/dist-packages (from alibi_detect) (1.19.5)\n",
            "Requirement already satisfied: scipy in /usr/local/lib/python3.6/dist-packages (from alibi_detect) (1.4.1)\n",
            "Collecting creme\n",
            "\u001b[?25l  Downloading https://files.pythonhosted.org/packages/ce/8f/95044edac0127f71251a187ae1be0fe0e9bab24050cd6ab29210f078b179/creme-0.6.1-cp36-cp36m-manylinux2010_x86_64.whl (1.1MB)\n",
            "\u001b[K     |████████████████████████████████| 1.1MB 10.8MB/s \n",
            "\u001b[?25hCollecting transformers>=2.10.0\n",
            "\u001b[?25l  Downloading https://files.pythonhosted.org/packages/cd/40/866cbfac4601e0f74c7303d533a9c5d4a53858bd402e08e3e294dd271f25/transformers-4.2.1-py3-none-any.whl (1.8MB)\n",
            "\u001b[K     |████████████████████████████████| 1.8MB 26.8MB/s \n",
            "\u001b[?25hRequirement already satisfied: h5py~=2.10.0 in /usr/local/lib/python3.6/dist-packages (from tensorflow>=2->alibi_detect) (2.10.0)\n",
            "Requirement already satisfied: astunparse~=1.6.3 in /usr/local/lib/python3.6/dist-packages (from tensorflow>=2->alibi_detect) (1.6.3)\n",
            "Requirement already satisfied: tensorflow-estimator<2.5.0,>=2.4.0rc0 in /usr/local/lib/python3.6/dist-packages (from tensorflow>=2->alibi_detect) (2.4.0)\n",
            "Requirement already satisfied: opt-einsum~=3.3.0 in /usr/local/lib/python3.6/dist-packages (from tensorflow>=2->alibi_detect) (3.3.0)\n",
            "Requirement already satisfied: absl-py~=0.10 in /usr/local/lib/python3.6/dist-packages (from tensorflow>=2->alibi_detect) (0.10.0)\n",
            "Requirement already satisfied: grpcio~=1.32.0 in /usr/local/lib/python3.6/dist-packages (from tensorflow>=2->alibi_detect) (1.32.0)\n",
            "Requirement already satisfied: wheel~=0.35 in /usr/local/lib/python3.6/dist-packages (from tensorflow>=2->alibi_detect) (0.36.2)\n",
            "Requirement already satisfied: wrapt~=1.12.1 in /usr/local/lib/python3.6/dist-packages (from tensorflow>=2->alibi_detect) (1.12.1)\n",
            "Requirement already satisfied: gast==0.3.3 in /usr/local/lib/python3.6/dist-packages (from tensorflow>=2->alibi_detect) (0.3.3)\n",
            "Requirement already satisfied: google-pasta~=0.2 in /usr/local/lib/python3.6/dist-packages (from tensorflow>=2->alibi_detect) (0.2.0)\n",
            "Requirement already satisfied: typing-extensions~=3.7.4 in /usr/local/lib/python3.6/dist-packages (from tensorflow>=2->alibi_detect) (3.7.4.3)\n",
            "Requirement already satisfied: six~=1.15.0 in /usr/local/lib/python3.6/dist-packages (from tensorflow>=2->alibi_detect) (1.15.0)\n",
            "Requirement already satisfied: protobuf>=3.9.2 in /usr/local/lib/python3.6/dist-packages (from tensorflow>=2->alibi_detect) (3.12.4)\n",
            "Requirement already satisfied: termcolor~=1.1.0 in /usr/local/lib/python3.6/dist-packages (from tensorflow>=2->alibi_detect) (1.1.0)\n",
            "Requirement already satisfied: tensorboard~=2.4 in /usr/local/lib/python3.6/dist-packages (from tensorflow>=2->alibi_detect) (2.4.0)\n",
            "Requirement already satisfied: keras-preprocessing~=1.1.2 in /usr/local/lib/python3.6/dist-packages (from tensorflow>=2->alibi_detect) (1.1.2)\n",
            "Requirement already satisfied: flatbuffers~=1.12.0 in /usr/local/lib/python3.6/dist-packages (from tensorflow>=2->alibi_detect) (1.12)\n",
            "Requirement already satisfied: imageio>=2.3.0 in /usr/local/lib/python3.6/dist-packages (from scikit-image->alibi_detect) (2.4.1)\n",
            "Requirement already satisfied: PyWavelets>=0.4.0 in /usr/local/lib/python3.6/dist-packages (from scikit-image->alibi_detect) (1.1.1)\n",
            "Requirement already satisfied: networkx>=2.0 in /usr/local/lib/python3.6/dist-packages (from scikit-image->alibi_detect) (2.5)\n",
            "Requirement already satisfied: cycler>=0.10 in /usr/local/lib/python3.6/dist-packages (from matplotlib->alibi_detect) (0.10.0)\n",
            "Requirement already satisfied: python-dateutil>=2.1 in /usr/local/lib/python3.6/dist-packages (from matplotlib->alibi_detect) (2.8.1)\n",
            "Requirement already satisfied: pyparsing!=2.0.4,!=2.1.2,!=2.1.6,>=2.0.1 in /usr/local/lib/python3.6/dist-packages (from matplotlib->alibi_detect) (2.4.7)\n",
            "Requirement already satisfied: kiwisolver>=1.0.1 in /usr/local/lib/python3.6/dist-packages (from matplotlib->alibi_detect) (1.3.1)\n",
            "Requirement already satisfied: toolz>=0.7.3; extra == \"array\" in /usr/local/lib/python3.6/dist-packages (from dask[array]->alibi_detect) (0.11.1)\n",
            "Requirement already satisfied: joblib>=0.11 in /usr/local/lib/python3.6/dist-packages (from scikit-learn->alibi_detect) (1.0.0)\n",
            "Requirement already satisfied: decorator in /usr/local/lib/python3.6/dist-packages (from tensorflow-probability>=0.8->alibi_detect) (4.4.2)\n",
            "Requirement already satisfied: cloudpickle>=1.3 in /usr/local/lib/python3.6/dist-packages (from tensorflow-probability>=0.8->alibi_detect) (1.3.0)\n",
            "Requirement already satisfied: dm-tree in /usr/local/lib/python3.6/dist-packages (from tensorflow-probability>=0.8->alibi_detect) (0.1.5)\n",
            "Requirement already satisfied: pytz>=2017.2 in /usr/local/lib/python3.6/dist-packages (from pandas->alibi_detect) (2018.9)\n",
            "Collecting mmh3==2.5.1\n",
            "  Downloading https://files.pythonhosted.org/packages/fa/7e/3ddcab0a9fcea034212c02eb411433db9330e34d626360b97333368b4052/mmh3-2.5.1.tar.gz\n",
            "Requirement already satisfied: importlib-metadata; python_version < \"3.8\" in /usr/local/lib/python3.6/dist-packages (from transformers>=2.10.0->alibi_detect) (3.3.0)\n",
            "Collecting tokenizers==0.9.4\n",
            "\u001b[?25l  Downloading https://files.pythonhosted.org/packages/0f/1c/e789a8b12e28be5bc1ce2156cf87cb522b379be9cadc7ad8091a4cc107c4/tokenizers-0.9.4-cp36-cp36m-manylinux2010_x86_64.whl (2.9MB)\n",
            "\u001b[K     |████████████████████████████████| 2.9MB 47.7MB/s \n",
            "\u001b[?25hRequirement already satisfied: tqdm>=4.27 in /usr/local/lib/python3.6/dist-packages (from transformers>=2.10.0->alibi_detect) (4.41.1)\n",
            "Requirement already satisfied: regex!=2019.12.17 in /usr/local/lib/python3.6/dist-packages (from transformers>=2.10.0->alibi_detect) (2019.12.20)\n",
            "Requirement already satisfied: dataclasses; python_version < \"3.7\" in /usr/local/lib/python3.6/dist-packages (from transformers>=2.10.0->alibi_detect) (0.8)\n",
            "Requirement already satisfied: requests in /usr/local/lib/python3.6/dist-packages (from transformers>=2.10.0->alibi_detect) (2.23.0)\n",
            "Requirement already satisfied: filelock in /usr/local/lib/python3.6/dist-packages (from transformers>=2.10.0->alibi_detect) (3.0.12)\n",
            "Collecting sacremoses\n",
            "\u001b[?25l  Downloading https://files.pythonhosted.org/packages/7d/34/09d19aff26edcc8eb2a01bed8e98f13a1537005d31e95233fd48216eed10/sacremoses-0.0.43.tar.gz (883kB)\n",
            "\u001b[K     |████████████████████████████████| 890kB 44.7MB/s \n",
            "\u001b[?25hRequirement already satisfied: packaging in /usr/local/lib/python3.6/dist-packages (from transformers>=2.10.0->alibi_detect) (20.8)\n",
            "Requirement already satisfied: setuptools in /usr/local/lib/python3.6/dist-packages (from protobuf>=3.9.2->tensorflow>=2->alibi_detect) (51.1.1)\n",
            "Requirement already satisfied: tensorboard-plugin-wit>=1.6.0 in /usr/local/lib/python3.6/dist-packages (from tensorboard~=2.4->tensorflow>=2->alibi_detect) (1.7.0)\n",
            "Requirement already satisfied: werkzeug>=0.11.15 in /usr/local/lib/python3.6/dist-packages (from tensorboard~=2.4->tensorflow>=2->alibi_detect) (1.0.1)\n",
            "Requirement already satisfied: google-auth<2,>=1.6.3 in /usr/local/lib/python3.6/dist-packages (from tensorboard~=2.4->tensorflow>=2->alibi_detect) (1.17.2)\n",
            "Requirement already satisfied: markdown>=2.6.8 in /usr/local/lib/python3.6/dist-packages (from tensorboard~=2.4->tensorflow>=2->alibi_detect) (3.3.3)\n",
            "Requirement already satisfied: google-auth-oauthlib<0.5,>=0.4.1 in /usr/local/lib/python3.6/dist-packages (from tensorboard~=2.4->tensorflow>=2->alibi_detect) (0.4.2)\n",
            "Requirement already satisfied: zipp>=0.5 in /usr/local/lib/python3.6/dist-packages (from importlib-metadata; python_version < \"3.8\"->transformers>=2.10.0->alibi_detect) (3.4.0)\n",
            "Requirement already satisfied: urllib3!=1.25.0,!=1.25.1,<1.26,>=1.21.1 in /usr/local/lib/python3.6/dist-packages (from requests->transformers>=2.10.0->alibi_detect) (1.24.3)\n",
            "Requirement already satisfied: chardet<4,>=3.0.2 in /usr/local/lib/python3.6/dist-packages (from requests->transformers>=2.10.0->alibi_detect) (3.0.4)\n",
            "Requirement already satisfied: certifi>=2017.4.17 in /usr/local/lib/python3.6/dist-packages (from requests->transformers>=2.10.0->alibi_detect) (2020.12.5)\n",
            "Requirement already satisfied: idna<3,>=2.5 in /usr/local/lib/python3.6/dist-packages (from requests->transformers>=2.10.0->alibi_detect) (2.10)\n",
            "Requirement already satisfied: click in /usr/local/lib/python3.6/dist-packages (from sacremoses->transformers>=2.10.0->alibi_detect) (7.1.2)\n",
            "Requirement already satisfied: pyasn1-modules>=0.2.1 in /usr/local/lib/python3.6/dist-packages (from google-auth<2,>=1.6.3->tensorboard~=2.4->tensorflow>=2->alibi_detect) (0.2.8)\n",
            "Requirement already satisfied: rsa<5,>=3.1.4; python_version >= \"3\" in /usr/local/lib/python3.6/dist-packages (from google-auth<2,>=1.6.3->tensorboard~=2.4->tensorflow>=2->alibi_detect) (4.6)\n",
            "Requirement already satisfied: cachetools<5.0,>=2.0.0 in /usr/local/lib/python3.6/dist-packages (from google-auth<2,>=1.6.3->tensorboard~=2.4->tensorflow>=2->alibi_detect) (4.2.0)\n",
            "Requirement already satisfied: requests-oauthlib>=0.7.0 in /usr/local/lib/python3.6/dist-packages (from google-auth-oauthlib<0.5,>=0.4.1->tensorboard~=2.4->tensorflow>=2->alibi_detect) (1.3.0)\n",
            "Requirement already satisfied: pyasn1<0.5.0,>=0.4.6 in /usr/local/lib/python3.6/dist-packages (from pyasn1-modules>=0.2.1->google-auth<2,>=1.6.3->tensorboard~=2.4->tensorflow>=2->alibi_detect) (0.4.8)\n",
            "Requirement already satisfied: oauthlib>=3.0.0 in /usr/local/lib/python3.6/dist-packages (from requests-oauthlib>=0.7.0->google-auth-oauthlib<0.5,>=0.4.1->tensorboard~=2.4->tensorflow>=2->alibi_detect) (3.1.0)\n",
            "Building wheels for collected packages: mmh3, sacremoses\n",
            "  Building wheel for mmh3 (setup.py) ... \u001b[?25l\u001b[?25hdone\n",
            "  Created wheel for mmh3: filename=mmh3-2.5.1-cp36-cp36m-linux_x86_64.whl size=37850 sha256=acd838f95b824270e51b506033bf81c38ecc88fed20a9c2a682c4284451afd3e\n",
            "  Stored in directory: /root/.cache/pip/wheels/38/b4/ea/6e4e321c625d3320c0c496bf4088371546d8fce5f1dd71b219\n",
            "  Building wheel for sacremoses (setup.py) ... \u001b[?25l\u001b[?25hdone\n",
            "  Created wheel for sacremoses: filename=sacremoses-0.0.43-cp36-none-any.whl size=893261 sha256=a762f5cf91c42b5a96bf35e2b7bdc0f997732759bf7c4133a3364cde3be06fb4\n",
            "  Stored in directory: /root/.cache/pip/wheels/29/3c/fd/7ce5c3f0666dab31a50123635e6fb5e19ceb42ce38d4e58f45\n",
            "Successfully built mmh3 sacremoses\n",
            "Installing collected packages: mmh3, creme, tokenizers, sacremoses, transformers, alibi-detect\n",
            "Successfully installed alibi-detect-0.4.4 creme-0.6.1 mmh3-2.5.1 sacremoses-0.0.43 tokenizers-0.9.4 transformers-4.2.1\n"
          ],
          "name": "stdout"
        }
      ]
    },
    {
      "cell_type": "code",
      "metadata": {
        "id": "Ti4GzSR2UkYA"
      },
      "source": [
        "import matplotlib.pyplot as plt\r\n",
        "import numpy as np\r\n",
        "import os\r\n",
        "import tensorflow as tf\r\n",
        "from tensorflow.keras.layers import Conv2D, Dense, Flatten, InputLayer, Reshape\r\n",
        "\r\n",
        "from alibi_detect.cd import KSDrift\r\n",
        "from alibi_detect.cd.preprocess import UAE, HiddenOutput\r\n",
        "from alibi_detect.models.resnet import scale_by_instance\r\n",
        "from alibi_detect.utils.fetching import fetch_tf_model, fetch_detector\r\n",
        "from alibi_detect.utils.prediction import predict_batch\r\n",
        "from alibi_detect.utils.saving import save_detector, load_detector\r\n",
        "from alibi_detect.datasets import fetch_cifar10c, corruption_types_cifar10c"
      ],
      "execution_count": 2,
      "outputs": []
    },
    {
      "cell_type": "markdown",
      "metadata": {
        "id": "JxMPF3B5Ut_S"
      },
      "source": [
        "## Load Data\r\n",
        "Original CIFAR-10 data"
      ]
    },
    {
      "cell_type": "code",
      "metadata": {
        "colab": {
          "base_uri": "https://localhost:8080/"
        },
        "id": "nr93q32MUxGC",
        "outputId": "34492f02-92cb-4050-b11e-0a56dbb51fa3"
      },
      "source": [
        "(X_train, y_train), (X_test, y_test) = tf.keras.datasets.cifar10.load_data()\r\n",
        "X_train = X_train.astype('float32')/255.0\r\n",
        "X_test = X_test.astype('float32')/255.0\r\n",
        "y_train = y_train.astype('int64').reshape(-1,)\r\n",
        "y_test = y_test.astype('int64').reshape(-1,)"
      ],
      "execution_count": 7,
      "outputs": [
        {
          "output_type": "stream",
          "text": [
            "Downloading data from https://www.cs.toronto.edu/~kriz/cifar-10-python.tar.gz\n",
            "170500096/170498071 [==============================] - 4s 0us/step\n"
          ],
          "name": "stdout"
        }
      ]
    },
    {
      "cell_type": "markdown",
      "metadata": {
        "id": "Yjj8_Ug1VsdQ"
      },
      "source": [
        "## Corruptions\r\n",
        "We can simulate all of these types of corruptions"
      ]
    },
    {
      "cell_type": "code",
      "metadata": {
        "colab": {
          "base_uri": "https://localhost:8080/"
        },
        "id": "7BlOP9U6V6qU",
        "outputId": "343eb8fd-03e4-4a72-ed31-705471aa5ec7"
      },
      "source": [
        "corruptions = corruption_types_cifar10c()\r\n",
        "corruptions"
      ],
      "execution_count": 8,
      "outputs": [
        {
          "output_type": "execute_result",
          "data": {
            "text/plain": [
              "['brightness',\n",
              " 'contrast',\n",
              " 'defocus_blur',\n",
              " 'elastic_transform',\n",
              " 'fog',\n",
              " 'frost',\n",
              " 'gaussian_blur',\n",
              " 'gaussian_noise',\n",
              " 'glass_blur',\n",
              " 'impulse_noise',\n",
              " 'jpeg_compression',\n",
              " 'motion_blur',\n",
              " 'pixelate',\n",
              " 'saturate',\n",
              " 'shot_noise',\n",
              " 'snow',\n",
              " 'spatter',\n",
              " 'speckle_noise',\n",
              " 'zoom_blur']"
            ]
          },
          "metadata": {
            "tags": []
          },
          "execution_count": 8
        }
      ]
    },
    {
      "cell_type": "code",
      "metadata": {
        "id": "6z_woj7VWDe8"
      },
      "source": [
        "corruption = [\"gaussian_noise\", \"motion_blur\", \"brightness\", \"pixelate\"]\r\n",
        "X_corr, y_corr = fetch_cifar10c(corruption=corruption, severity=5, return_X_y=True)\r\n",
        "X_corr = X_corr.astype('float32')/255.0"
      ],
      "execution_count": 9,
      "outputs": []
    },
    {
      "cell_type": "markdown",
      "metadata": {
        "id": "bwMuYd1WXGTV"
      },
      "source": [
        "We split the original test set into a reference dataset and a dataset which should not be rejected under the HP of the KS test. We split also the X_ref into corruptions types."
      ]
    },
    {
      "cell_type": "code",
      "metadata": {
        "id": "eOWl8_aWXxMR"
      },
      "source": [
        "np.random.seed(0)\r\n",
        "n_test = X_test.shape[0]\r\n",
        "idx = np.random.choice(n_test, size=n_test//2, replace=False)\r\n",
        "idx_h0 = np.delete(np.arange(n_test), idx, axis=0)\r\n",
        "assert idx.all() != idx_h0.all()\r\n",
        "X_ref, y_ref = X_test[idx], y_test[idx]\r\n",
        "X_h0, y_h0 = X_test[idx_h0], y_test[idx_h0]\r\n",
        "assert X_ref.shape[0] == X_test.shape[0] // 2\r\n",
        "assert X_ref.shape[1] == X_test.shape[1]\r\n",
        "assert X_ref.shape == X_h0.shape\r\n",
        "assert y_ref.shape == y_h0.shape\r\n"
      ],
      "execution_count": 13,
      "outputs": []
    },
    {
      "cell_type": "code",
      "metadata": {
        "colab": {
          "base_uri": "https://localhost:8080/"
        },
        "id": "miTUO2vsZb-R",
        "outputId": "6a221631-2eb4-4ecc-fa41-edcaafdf38d2"
      },
      "source": [
        "# check the classes are quite balanced.\r\n",
        "classes, counts_ref = np.unique(y_ref, return_counts=True)\r\n",
        "counts_h0 = np.unique(y_h0, return_counts=True)[1]\r\n",
        "print(\"class Ref H0\")\r\n",
        "for cls, cref, ch0 in zip(classes, counts_ref, counts_h0):\r\n",
        "  assert cref + ch0 == n_test // 10  # CIFAR-10 dataset is perfectly balanced\r\n",
        "  print(f\"{cls}     {cref} {ch0}\")"
      ],
      "execution_count": 17,
      "outputs": [
        {
          "output_type": "stream",
          "text": [
            "class Ref H0\n",
            "0     472 528\n",
            "1     510 490\n",
            "2     498 502\n",
            "3     492 508\n",
            "4     501 499\n",
            "5     495 505\n",
            "6     493 507\n",
            "7     501 499\n",
            "8     516 484\n",
            "9     522 478\n"
          ],
          "name": "stdout"
        }
      ]
    },
    {
      "cell_type": "code",
      "metadata": {
        "id": "s_MdTOaWayB3"
      },
      "source": [
        "X_c = []\r\n",
        "n_test = X_test.shape[0]\r\n",
        "n_corr = len(corruption)\r\n",
        "for i in range(n_corr):\r\n",
        "  X_c.append(X_corr[i * n_test:(1 + i)*n_test])"
      ],
      "execution_count": 36,
      "outputs": []
    },
    {
      "cell_type": "markdown",
      "metadata": {
        "id": "_4lIw16zeaCa"
      },
      "source": [
        "We can visualize the same instance for each of the corruption type"
      ]
    },
    {
      "cell_type": "code",
      "metadata": {
        "colab": {
          "base_uri": "https://localhost:8080/",
          "height": 1000
        },
        "id": "-NV4zkL3b0aS",
        "outputId": "e43f134a-22f5-46c0-d5cb-7ffcb58e7680"
      },
      "source": [
        "i = 1\r\n",
        "\r\n",
        "n_test = X_test.shape[0]\r\n",
        "\r\n",
        "plt.title(\"original\")\r\n",
        "plt.axis(\"off\")\r\n",
        "plt.imshow(X_test[i])\r\n",
        "plt.show()\r\n",
        "for _ in range(len(corruption)):\r\n",
        "  plt.title(corruption[_])\r\n",
        "  plt.axis(\"off\")\r\n",
        "  plt.imshow(X_corr[n_test * _ + i])\r\n",
        "  plt.show()"
      ],
      "execution_count": 41,
      "outputs": [
        {
          "output_type": "display_data",
          "data": {
            "image/png": "[encoded data removed]",
            "text/plain": [
              "<Figure size 432x288 with 1 Axes>"
            ]
          },
          "metadata": {
            "tags": [],
            "needs_background": "light"
          }
        },
        {
          "output_type": "display_data",
          "data": {
            "image/png": "[encoded data removed]",
            "text/plain": [
              "<Figure size 432x288 with 1 Axes>"
            ]
          },
          "metadata": {
            "tags": [],
            "needs_background": "light"
          }
        },
        {
          "output_type": "display_data",
          "data": {
            "image/png": "[encoded data removed]",
            "text/plain": [
              "<Figure size 432x288 with 1 Axes>"
            ]
          },
          "metadata": {
            "tags": [],
            "needs_background": "light"
          }
        },
        {
          "output_type": "display_data",
          "data": {
            "image/png": "[encoded data removed]",
            "text/plain": [
              "<Figure size 432x288 with 1 Axes>"
            ]
          },
          "metadata": {
            "tags": [],
            "needs_background": "light"
          }
        },
        {
          "output_type": "display_data",
          "data": {
            "image/png": "[encoded data removed]",
            "text/plain": [
              "<Figure size 432x288 with 1 Axes>"
            ]
          },
          "metadata": {
            "tags": [],
            "needs_background": "light"
          }
        }
      ]
    },
    {
      "cell_type": "markdown",
      "metadata": {
        "id": "EkcZJTLrehN-"
      },
      "source": [
        "We can check that the performance of a classification model on CIFAR10 decreases significantly on these corrupted instances."
      ]
    },
    {
      "cell_type": "code",
      "metadata": {
        "colab": {
          "base_uri": "https://localhost:8080/"
        },
        "id": "LxvcM8yre2Je",
        "outputId": "3b8fb644-baf7-48ef-d96f-cccc2e33b52a"
      },
      "source": [
        "dataset = \"cifar10\"\r\n",
        "model = \"resnet32\"\r\n",
        "clf = fetch_tf_model(dataset, model)\r\n",
        "acc = clf.evaluate(scale_by_instance(X_test), y_test, batch_size=128, verbose=0)[1]\r\n",
        "print(\"Test set accuracy\")\r\n",
        "print(\"original acc: {:0.4f}\".format(acc))\r\n",
        "clf_accuracy = {'origina': acc}\r\n",
        "for _ in range(len(corruption)):\r\n",
        "  acc = clf.evaluate(scale_by_instance(X_c[_]), y_test, batch_size=128, verbose=0)[1]\r\n",
        "  clf_accuracy[corruption[_]] = acc\r\n",
        "  print(\"{}  acc: {:0.4f}\".format(corruption[_], acc))"
      ],
      "execution_count": 38,
      "outputs": [
        {
          "output_type": "stream",
          "text": [
            "Test set accuracy\n",
            "original acc: 0.9278\n",
            "gaussian_noise  acc: 0.2208\n",
            "motion_blur  acc: 0.6339\n",
            "brightness  acc: 0.8913\n",
            "pixelate  acc: 0.3666\n"
          ],
          "name": "stdout"
        }
      ]
    },
    {
      "cell_type": "markdown",
      "metadata": {
        "id": "7JMBjYtzicJ8"
      },
      "source": [
        "The results make clear to us how much detect data drift is important."
      ]
    },
    {
      "cell_type": "markdown",
      "metadata": {
        "id": "ZZlQWhg3i-QX"
      },
      "source": [
        "## Detect drift\r\n",
        "We're trying to detect drift on high-dimensionals data (32x32x3) using an aggregration of univariate KS-test. It therefore, makes sense to apply dimensionality reduction. Some dimensionality reduction algorithms, as described in the recent paper <a class=\"reference external\" href=\"https://arxiv.org/pdf/1810.11953.pdf\">Failing Loudly: An Empirical Study of Methods for Detecting Dataset Shift</a>, are available in the *alibi-detect* library.\r\n",
        "In particular, **UAE** Untrained AutoEncoder, **BBSDs** (black-box shift detection using the classifier’s softmax outputs) and **PCA**."
      ]
    },
    {
      "cell_type": "markdown",
      "metadata": {
        "id": "nVojAldmlX6O"
      },
      "source": [
        "## Untrained AutoEncoder"
      ]
    },
    {
      "cell_type": "code",
      "metadata": {
        "id": "iwu_hrWwlayY"
      },
      "source": [
        "tf.random.set_seed(0)\r\n",
        "\r\n",
        "#define encoder\r\n",
        "encoding_dim = 34\r\n",
        "encoder = tf.keras.models.Sequential([\r\n",
        "                                      InputLayer(input_shape=(32, 32, 3)),\r\n",
        "                                      Conv2D(64, 4, strides=2, padding=\"same\", activation=tf.nn.relu),\r\n",
        "                                      Conv2D(128, 4, strides=2, padding=\"same\", activation=tf.nn.relu),\r\n",
        "                                      Conv2D(512, 4, strides=2, padding=\"same\", activation=tf.nn.relu),\r\n",
        "                                      Flatten(),\r\n",
        "                                      Dense(encoding_dim,)\r\n",
        "\r\n",
        "])\r\n",
        "\r\n",
        "uae = UAE(encoder_net=encoder)\r\n",
        "preprocess_kwargs = {\"model\": uae, \"batch_size\": 128}\r\n",
        "\r\n",
        "#initialize drift detector\r\n",
        "p_val = .05\r\n",
        "cd = KSDrift(\r\n",
        "    p_val=p_val,        # p-value for K-S test\r\n",
        "    X_ref=X_ref,       # test against original test set\r\n",
        "    preprocess_X_ref=True,  # already preprocess X_ref at init stage to save time\r\n",
        "    preprocess_kwargs=preprocess_kwargs,\r\n",
        "    alternative='two-sided'  # other options: 'less', 'greater'\r\n",
        ")\r\n",
        "\r\n",
        "# it is also possible to save/load a detector\r\n",
        "# save_detector(file_path)\r\n",
        "# cd = load_detector(file_path)"
      ],
      "execution_count": 48,
      "outputs": []
    },
    {
      "cell_type": "markdown",
      "metadata": {
        "id": "ZH50RvHdn3nX"
      },
      "source": [
        "Let's check if the detector predicts drifts within the original dataset"
      ]
    },
    {
      "cell_type": "code",
      "metadata": {
        "colab": {
          "base_uri": "https://localhost:8080/"
        },
        "id": "sYwPCVXwoEou",
        "outputId": "d183721f-c9b8-4584-c785-85d3d1e9e44a"
      },
      "source": [
        "preds_h0 = cd.predict(X_h0)\r\n",
        "labels = [\"No!\", \"Yes!\"]\r\n",
        "print(f\"Drift?  {labels[preds_h0['data']['is_drift']]}\")"
      ],
      "execution_count": 49,
      "outputs": [
        {
          "output_type": "stream",
          "text": [
            "Drift?  No!\n"
          ],
          "name": "stdout"
        }
      ]
    },
    {
      "cell_type": "markdown",
      "metadata": {
        "id": "dItuq0JxpovM"
      },
      "source": [
        "As expected no drift has occured. We can also inspect the p-value for each of the predictions. "
      ]
    },
    {
      "cell_type": "code",
      "metadata": {
        "colab": {
          "base_uri": "https://localhost:8080/"
        },
        "id": "8JgkYhWLpvNL",
        "outputId": "064f4704-1674-4c35-802c-69cf52c08c4e"
      },
      "source": [
        "preds_h0['data']"
      ],
      "execution_count": 53,
      "outputs": [
        {
          "output_type": "execute_result",
          "data": {
            "text/plain": [
              "{'distance': array([0.0236, 0.0364, 0.015 , 0.0144, 0.0202, 0.0162, 0.0196, 0.016 ,\n",
              "        0.0108, 0.0162, 0.0198, 0.0122, 0.0212, 0.0224, 0.0158, 0.0144,\n",
              "        0.0194, 0.0208, 0.0138, 0.021 , 0.011 , 0.0194, 0.015 , 0.0198,\n",
              "        0.0194, 0.0126, 0.0174, 0.0212, 0.0146, 0.013 , 0.0172, 0.022 ,\n",
              "        0.0148, 0.0144], dtype=float32),\n",
              " 'is_drift': 0,\n",
              " 'p_val': array([0.12345381, 0.00265409, 0.62716705, 0.677735  , 0.25943416,\n",
              "        0.52796143, 0.2920585 , 0.5441424 , 0.93250304, 0.52796143,\n",
              "        0.28087384, 0.850771  , 0.21113992, 0.16264398, 0.5604951 ,\n",
              "        0.677735  , 0.30355498, 0.22956407, 0.72781175, 0.22020556,\n",
              "        0.9228168 , 0.30355498, 0.62716705, 0.28087384, 0.30355498,\n",
              "        0.82224816, 0.43545538, 0.21113992, 0.66088647, 0.79201305,\n",
              "        0.45025542, 0.17771819, 0.6440195 , 0.677735  ], dtype=float32),\n",
              " 'threshold': 0.0014705882352941176}"
            ]
          },
          "metadata": {
            "tags": []
          },
          "execution_count": 53
        }
      ]
    },
    {
      "cell_type": "markdown",
      "metadata": {
        "id": "SxvIZ1rsqdVu"
      },
      "source": [
        "Let's now see the predictions for the perturbed dataset."
      ]
    },
    {
      "cell_type": "code",
      "metadata": {
        "colab": {
          "base_uri": "https://localhost:8080/"
        },
        "id": "F2jU-w-EqjN1",
        "outputId": "04851b2c-e584-4b4e-a1fe-60916759115e"
      },
      "source": [
        "for X, c in zip(X_c, corruption):\r\n",
        "  preds = cd.predict(X)\r\n",
        "  print(\"Prediction:\")\r\n",
        "  print(f\"Drift? {labels[preds['data']['is_drift']]}\")\r\n",
        "  print(\"Feature-wise p_value:\")\r\n",
        "  print(preds['data']['p_val'])"
      ],
      "execution_count": 57,
      "outputs": [
        {
          "output_type": "stream",
          "text": [
            "Prediction:\n",
            "Drift? Yes!\n",
            "Feature-wise p_value:\n",
            "[1.3167676e-01 8.9514272e-09 3.1007592e-02 4.0792778e-01 2.1807582e-05\n",
            " 1.7468357e-05 2.9143179e-03 9.5987767e-03 5.8114827e-03 2.5698198e-03\n",
            " 8.6622059e-02 8.4146664e-02 8.9963677e-04 4.8503268e-01 2.1316923e-02\n",
            " 1.1266356e-03 5.8933697e-08 2.2633269e-03 9.4535154e-01 3.8903630e-03\n",
            " 1.4266117e-01 6.7980494e-03 8.1470889e-01 2.7950103e-03 6.0683548e-01\n",
            " 2.9143179e-03 4.0521021e-03 1.2925932e-02 9.4129611e-04 1.7832204e-04\n",
            " 5.1960558e-02 1.1177201e-01 1.1322660e-04 1.8266843e-03]\n",
            "Prediction:\n",
            "Drift? Yes!\n",
            "Feature-wise p_value:\n",
            "[1.7493351e-03 9.5925157e-11 1.8527109e-02 1.6260068e-01 3.8931589e-04\n",
            " 6.2688382e-06 1.9522957e-05 1.6100140e-07 7.4963848e-04 3.0614465e-04\n",
            " 7.6357084e-03 8.9963677e-04 1.4693730e-03 1.3873853e-04 1.2925932e-02\n",
            " 4.3942747e-03 1.6894298e-06 7.0398796e-06 7.9720902e-01 1.7506430e-11\n",
            " 5.0361138e-02 3.1728068e-01 7.2645240e-02 2.7166676e-05 2.3648527e-02\n",
            " 1.4062161e-03 1.5892429e-06 1.5345249e-04 1.2428301e-06 8.5970649e-04\n",
            " 3.9028611e-02 9.4129611e-04 3.1186434e-10 4.4898572e-04]\n",
            "Prediction:\n",
            "Drift? Yes!\n",
            "Feature-wise p_value:\n",
            "[0.0000000e+00 0.0000000e+00 0.0000000e+00 0.0000000e+00 0.0000000e+00\n",
            " 0.0000000e+00 0.0000000e+00 1.4012985e-45 2.2938737e-16 0.0000000e+00\n",
            " 0.0000000e+00 0.0000000e+00 0.0000000e+00 0.0000000e+00 1.4548281e-41\n",
            " 0.0000000e+00 0.0000000e+00 0.0000000e+00 0.0000000e+00 0.0000000e+00\n",
            " 0.0000000e+00 0.0000000e+00 0.0000000e+00 0.0000000e+00 0.0000000e+00\n",
            " 0.0000000e+00 0.0000000e+00 0.0000000e+00 2.9885274e-38 0.0000000e+00\n",
            " 0.0000000e+00 0.0000000e+00 3.7345816e-03 0.0000000e+00]\n",
            "Prediction:\n",
            "Drift? Yes!\n",
            "Feature-wise p_value:\n",
            "[7.7009332e-01 7.8477029e-04 2.5310251e-01 7.8827745e-01 1.5437353e-01\n",
            " 7.6085776e-01 5.9717476e-01 4.4130555e-01 5.8754617e-01 6.7489398e-01\n",
            " 2.1949026e-01 7.9374194e-02 1.9416685e-01 8.6622059e-02 1.7559101e-01\n",
            " 1.9071993e-03 2.0782007e-03 3.8390055e-01 3.9181122e-01 4.9575041e-03\n",
            " 2.9036608e-01 1.8009846e-01 4.0792778e-01 2.1949026e-01 7.9374194e-02\n",
            " 3.7608969e-01 1.7882723e-02 8.4146664e-02 2.9989053e-02 1.0571583e-01\n",
            " 8.4146664e-02 3.2056447e-02 1.3892028e-01 5.9501763e-04]\n"
          ],
          "name": "stdout"
        }
      ]
    },
    {
      "cell_type": "markdown",
      "metadata": {
        "id": "uZOVuuJXrxpZ"
      },
      "source": [
        "Very well, our detector classifies correctly all the cases. Note how all the p-values are below the **0.05** threshold."
      ]
    }
  ]
}