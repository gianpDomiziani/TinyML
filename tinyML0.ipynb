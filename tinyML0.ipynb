{
  "nbformat": 4,
  "nbformat_minor": 0,
  "metadata": {
    "colab": {
      "name": "tinyML0.ipynb",
      "provenance": [],
      "collapsed_sections": [],
      "authorship_tag": "ABX9TyMqrVyC+8sVbiWr8ZFSANHC",
      "include_colab_link": true
    },
    "kernelspec": {
      "name": "python3",
      "display_name": "Python 3"
    }
  },
  "cells": [
    {
      "cell_type": "markdown",
      "metadata": {
        "id": "view-in-github",
        "colab_type": "text"
      },
      "source": [
        "<a href=\"https://colab.research.google.com/github/gianpDomiziani/TinyML/blob/main/tinyML0.ipynb\" target=\"_parent\"><img src=\"https://colab.research.google.com/assets/colab-badge.svg\" alt=\"Open In Colab\"/></a>"
      ]
    },
    {
      "cell_type": "code",
      "metadata": {
        "id": "WpKZneLf6LhF"
      },
      "source": [
        "# First import the functions we will need\r\n",
        "from __future__ import absolute_import, division, print_function, unicode_literals\r\n",
        "\r\n",
        "import tensorflow as tf\r\n",
        "import numpy as np\r\n",
        "import matplotlib.pyplot as plt"
      ],
      "execution_count": 5,
      "outputs": []
    },
    {
      "cell_type": "code",
      "metadata": {
        "id": "lb00gAA2GGNv"
      },
      "source": [
        "# Initial weights\r\n",
        "W = 10.0\r\n",
        "B = 10.0\r\n",
        "\r\n",
        "# define my customer Neural Network.\r\n",
        "class MyModel(tf.keras.Model):\r\n",
        "\r\n",
        "  def __init__(self):\r\n",
        "    super(MyModel, self).__init__()\r\n",
        "    self.conv = tf.keras.layers.Conv2D(32, 3, activation='relu')\r\n",
        "    self.flatter = tf.keras.layers.Flatten()\r\n",
        "    self.dense1 = tf.keras.layers.Dense(128, activation='relu')\r\n",
        "    self.dense2 = tf.keras.layers.Dense(10)\r\n",
        "  \r\n",
        "  # run the model by passing as input the x data.\r\n",
        "  def call(self, x):\r\n",
        "    x = self.conv(x)\r\n",
        "    x = self.flatter(x)\r\n",
        "    x = self.dense1(x)\r\n",
        "    x = self.dense2(x)\r\n",
        "    return x\r\n",
        "\r\n",
        "# define a simple linear model\r\n",
        "class SimpleLinearModel():\r\n",
        "\r\n",
        "  def __init__(self):\r\n",
        "    self.w = tf.Variable(W)\r\n",
        "    self.b = tf.Variable(B)\r\n",
        "  \r\n",
        "  def __call__(self, x):\r\n",
        "    return self.w * x + self.b"
      ],
      "execution_count": 6,
      "outputs": []
    },
    {
      "cell_type": "code",
      "metadata": {
        "id": "IKWAZ3sW8zSV"
      },
      "source": [
        "# define the learning process (trainining)\r\n",
        "\r\n",
        "def loss(preds, targets):\r\n",
        "  return tf.reduce_mean(tf.square(preds - targets))\r\n",
        "\r\n",
        "def train(model, inputs, outputs, learning_rate):\r\n",
        "  with tf.GradientTape() as g:\r\n",
        "    current_loss = loss(model(inputs), outputs)\r\n",
        "  # get the partial derivates of the loss with respect the w and b.\r\n",
        "  dw, db = g.gradient(current_loss, [model.w, model.b])\r\n",
        "  # update the weights using the gradient descent's rule\r\n",
        "  model.w.assign_sub(dw*learning_rate)\r\n",
        "  model.b.assign_sub(db*learning_rate)\r\n",
        "  return current_loss"
      ],
      "execution_count": 12,
      "outputs": []
    },
    {
      "cell_type": "code",
      "metadata": {
        "colab": {
          "base_uri": "https://localhost:8080/"
        },
        "id": "PvaBYVBFIVQ-",
        "outputId": "a39f54e2-de84-4141-dbf5-eb5cc411cfcd"
      },
      "source": [
        "# Define our input data and learning rate\r\n",
        "xs = [-1.0, 0.0, 1.0, 2.0, 3.0, 4.0]\r\n",
        "ys = [-3.0, -1.0, 1.0, 3.0, 5.0, 7.0]\r\n",
        "LEARNING_RATE=0.09\r\n",
        "# instance the model\r\n",
        "model = SimpleLinearModel()\r\n",
        "\r\n",
        "losses = []\r\n",
        "ls_w, ls_b = [], []\r\n",
        "for e in range(50):\r\n",
        "  ls_w.append(model.w.numpy())\r\n",
        "  ls_b.append(model.b.numpy())\r\n",
        "  current_loss = train(model, xs, ys, LEARNING_RATE)\r\n",
        "  losses.append(current_loss)\r\n",
        "  print(\"Epoch: %2d - W: %1.2f - B: %1.2f - Loss: %2.5f\" % \r\n",
        "        (e, ls_w[-1], ls_b[-1], current_loss))\r\n",
        " \r\n"
      ],
      "execution_count": 15,
      "outputs": [
        {
          "output_type": "stream",
          "text": [
            "Epoch:  0 - W: 10.00 - B: 10.00 - Loss: 715.66669\n",
            "Epoch:  1 - W: -0.41 - B: 5.86 - Loss: 27.47032\n",
            "Epoch:  2 - W: -0.02 - B: 5.28 - Loss: 22.43888\n",
            "Epoch:  3 - W: 0.16 - B: 4.69 - Loss: 18.46284\n",
            "Epoch:  4 - W: 0.33 - B: 4.16 - Loss: 15.19137\n",
            "Epoch:  5 - W: 0.49 - B: 3.68 - Loss: 12.49958\n",
            "Epoch:  6 - W: 0.63 - B: 3.25 - Loss: 10.28476\n",
            "Epoch:  7 - W: 0.76 - B: 2.85 - Loss: 8.46238\n",
            "Epoch:  8 - W: 0.87 - B: 2.50 - Loss: 6.96291\n",
            "Epoch:  9 - W: 0.98 - B: 2.17 - Loss: 5.72914\n",
            "Epoch: 10 - W: 1.07 - B: 1.88 - Loss: 4.71398\n",
            "Epoch: 11 - W: 1.16 - B: 1.61 - Loss: 3.87870\n",
            "Epoch: 12 - W: 1.24 - B: 1.37 - Loss: 3.19143\n",
            "Epoch: 13 - W: 1.31 - B: 1.15 - Loss: 2.62593\n",
            "Epoch: 14 - W: 1.37 - B: 0.95 - Loss: 2.16064\n",
            "Epoch: 15 - W: 1.43 - B: 0.77 - Loss: 1.77779\n",
            "Epoch: 16 - W: 1.48 - B: 0.60 - Loss: 1.46278\n",
            "Epoch: 17 - W: 1.53 - B: 0.45 - Loss: 1.20359\n",
            "Epoch: 18 - W: 1.57 - B: 0.32 - Loss: 0.99032\n",
            "Epoch: 19 - W: 1.61 - B: 0.20 - Loss: 0.81484\n",
            "Epoch: 20 - W: 1.65 - B: 0.08 - Loss: 0.67046\n",
            "Epoch: 21 - W: 1.68 - B: -0.02 - Loss: 0.55166\n",
            "Epoch: 22 - W: 1.71 - B: -0.11 - Loss: 0.45391\n",
            "Epoch: 23 - W: 1.74 - B: -0.19 - Loss: 0.37348\n",
            "Epoch: 24 - W: 1.76 - B: -0.27 - Loss: 0.30730\n",
            "Epoch: 25 - W: 1.79 - B: -0.33 - Loss: 0.25285\n",
            "Epoch: 26 - W: 1.81 - B: -0.40 - Loss: 0.20805\n",
            "Epoch: 27 - W: 1.82 - B: -0.45 - Loss: 0.17118\n",
            "Epoch: 28 - W: 1.84 - B: -0.50 - Loss: 0.14085\n",
            "Epoch: 29 - W: 1.85 - B: -0.55 - Loss: 0.11589\n",
            "Epoch: 30 - W: 1.87 - B: -0.59 - Loss: 0.09536\n",
            "Epoch: 31 - W: 1.88 - B: -0.63 - Loss: 0.07846\n",
            "Epoch: 32 - W: 1.89 - B: -0.66 - Loss: 0.06456\n",
            "Epoch: 33 - W: 1.90 - B: -0.69 - Loss: 0.05312\n",
            "Epoch: 34 - W: 1.91 - B: -0.72 - Loss: 0.04371\n",
            "Epoch: 35 - W: 1.92 - B: -0.75 - Loss: 0.03596\n",
            "Epoch: 36 - W: 1.93 - B: -0.77 - Loss: 0.02959\n",
            "Epoch: 37 - W: 1.93 - B: -0.79 - Loss: 0.02435\n",
            "Epoch: 38 - W: 1.94 - B: -0.81 - Loss: 0.02003\n",
            "Epoch: 39 - W: 1.95 - B: -0.83 - Loss: 0.01648\n",
            "Epoch: 40 - W: 1.95 - B: -0.85 - Loss: 0.01356\n",
            "Epoch: 41 - W: 1.95 - B: -0.86 - Loss: 0.01116\n",
            "Epoch: 42 - W: 1.96 - B: -0.87 - Loss: 0.00918\n",
            "Epoch: 43 - W: 1.96 - B: -0.88 - Loss: 0.00756\n",
            "Epoch: 44 - W: 1.97 - B: -0.90 - Loss: 0.00622\n",
            "Epoch: 45 - W: 1.97 - B: -0.91 - Loss: 0.00511\n",
            "Epoch: 46 - W: 1.97 - B: -0.91 - Loss: 0.00421\n",
            "Epoch: 47 - W: 1.97 - B: -0.92 - Loss: 0.00346\n",
            "Epoch: 48 - W: 1.98 - B: -0.93 - Loss: 0.00285\n",
            "Epoch: 49 - W: 1.98 - B: -0.94 - Loss: 0.00234\n"
          ],
          "name": "stdout"
        }
      ]
    },
    {
      "cell_type": "markdown",
      "metadata": {
        "id": "67cIICktKp-m"
      },
      "source": [
        "## Plot our trained values over time"
      ]
    },
    {
      "cell_type": "code",
      "metadata": {
        "colab": {
          "base_uri": "https://localhost:8080/",
          "height": 282
        },
        "id": "T8pP8LEjKvYt",
        "outputId": "8bb4e238-97ec-4666-8072-54190a22e93a"
      },
      "source": [
        "TRUE_w = 2.0\r\n",
        "TRUE_b = -1.0\r\n",
        "epochs = range(50)\r\n",
        "fig, ax = plt.subplots()\r\n",
        "ax.plot(epochs, ls_w, 'r', epochs, ls_b, 'b')\r\n",
        "ax.plot([TRUE_w]*len(epochs), 'r--', [TRUE_b]*len(epochs), 'b--')\r\n",
        "ax.legend(['W', 'B', 'True_W', 'True_b'])\r\n",
        "plt.plot()"
      ],
      "execution_count": 17,
      "outputs": [
        {
          "output_type": "execute_result",
          "data": {
            "text/plain": [
              "[]"
            ]
          },
          "metadata": {
            "tags": []
          },
          "execution_count": 17
        },
        {
          "output_type": "display_data",
          "data": {
            "image/png": "[encoded data removed]",
            "text/plain": [
              "<Figure size 432x288 with 1 Axes>"
            ]
          },
          "metadata": {
            "tags": [],
            "needs_background": "light"
          }
        }
      ]
    }
  ]
}